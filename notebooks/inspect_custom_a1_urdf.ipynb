{
 "cells": [
  {
   "cell_type": "code",
   "execution_count": 7,
   "metadata": {},
   "outputs": [
    {
     "name": "stdout",
     "output_type": "stream",
     "text": [
      "argv[0]=\n",
      "b3Warning[examples/Importers/ImportURDFDemo/BulletUrdfImporter.cpp,126]:\n",
      "No inertial data for link, using mass=1, localinertiadiagonal = 1,1,1, identity local inertial frameb3Warning[examples/Importers/ImportURDFDemo/BulletUrdfImporter.cpp,126]:\n",
      "base"
     ]
    }
   ],
   "source": [
    "import pybullet\n",
    "import pybullet_utils.bullet_client as bullet_client\n",
    "from quadruped_gym.quadruped import data\n",
    "\n",
    "pybullet_client = bullet_client.BulletClient(connection_mode=pybullet.DIRECT)\n",
    "pybullet_client.setAdditionalSearchPath(data.getDataPath())\n",
    "quadruped = pybullet_client.loadURDF('a1/urdf/a1_black.urdf')"
   ]
  },
  {
   "cell_type": "code",
   "execution_count": null,
   "metadata": {},
   "outputs": [],
   "source": [
    "num_joints = pybullet_client.getNumJoints(quadruped)\n",
    "joint_name_to_id = {}\n",
    "for i in range(num_joints):\n",
    "    joint_info = pybullet_client.getJointInfo(quadruped, i)\n",
    "    joint_name_to_id[joint_info[1].decode(\"UTF-8\")] = joint_info[0]\n",
    "\n",
    "print(joint_name_to_id)"
   ]
  }
 ],
 "metadata": {
  "interpreter": {
   "hash": "42977dffc630c67b22ff364a2ad29611ad9426be2f58209e07b8b39763bba0bd"
  },
  "kernelspec": {
   "display_name": "Python 3.8.10 64-bit ('.venv': poetry)",
   "language": "python",
   "name": "python3"
  },
  "language_info": {
   "codemirror_mode": {
    "name": "ipython",
    "version": 3
   },
   "file_extension": ".py",
   "mimetype": "text/x-python",
   "name": "python",
   "nbconvert_exporter": "python",
   "pygments_lexer": "ipython3",
   "version": "3.8.10"
  },
  "orig_nbformat": 4
 },
 "nbformat": 4,
 "nbformat_minor": 2
}
